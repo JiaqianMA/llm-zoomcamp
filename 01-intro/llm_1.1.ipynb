{
 "cells": [
  {
   "cell_type": "markdown",
   "id": "886d547e-f963-423d-a3c8-bbfcef739561",
   "metadata": {},
   "source": [
    "## 1 - OpenAI API\n",
    "- Before open juypter notebook, set environment variable, in the Terminal console, type : export OPENAI_API_KEY=\"...\", "
   ]
  },
  {
   "cell_type": "code",
   "execution_count": 5,
   "id": "88b7e925-0631-4d55-9e02-6a4758aaceeb",
   "metadata": {},
   "outputs": [],
   "source": [
    "import openai\n",
    "from openai import OpenAI\n",
    "client = OpenAI(api_key='...')\n",
    "\n",
    "# If you cannot remeber what is OPENAI_API_KEY, you can find it in this way \n",
    "import os\n",
    "os.environ # to show all environmental variables\n",
    "\n",
    "response = client.chat.completions.create(\n",
    "    model='o4-mini', #'gpt-4o' #'o4-mini' \n",
    "    message=[{\"role\":\"user\", \"content\": \"is it too late to join the course ? \" }]\n",
    ")\n",
    "\n",
    "response.choices[0].message"
   ]
  },
  {
   "cell_type": "markdown",
   "id": "17279b67-b828-4aba-b688-849691ca2ec2",
   "metadata": {},
   "source": [
    "## 2 - Groq AI API\n",
    "- set environment variable, export GROQ_API_KEY=\"...\""
   ]
  },
  {
   "cell_type": "code",
   "execution_count": 3,
   "id": "04b82558-9be9-41c5-a960-1235108019d9",
   "metadata": {},
   "outputs": [],
   "source": [
    "import os\n",
    "# os.environ # to show all environment variables"
   ]
  },
  {
   "cell_type": "code",
   "execution_count": 11,
   "id": "e7e17da4-02e9-40a9-a2a0-85c9189cffba",
   "metadata": {},
   "outputs": [
    {
     "name": "stdout",
     "output_type": "stream",
     "text": [
      "I'm happy to help, but I don't have any information about a specific course you're referring to. Could you please provide more context or details about the course, such as what it is, when it started, and what institution is offering it?\n",
      "\n",
      "That being said, whether it's too late to join a course depends on various factors, such as:\n",
      "\n",
      "1. The course schedule and deadlines\n",
      "2. The institution's policies on late enrollment\n",
      "3. The type of course (e.g., online, in-person, self-paced)\n",
      "\n",
      "If you provide more information about the course, I'll do my best to help you determine whether it's too late to join.\n"
     ]
    }
   ],
   "source": [
    "from groq import Groq\n",
    "import os\n",
    "\n",
    "client = Groq(\n",
    "    api_key=os.environ.get(\"GROQ_API_KEY\"),\n",
    ")\n",
    "\n",
    "response = client.chat.completions.create(\n",
    "    messages=[{\"role\":\"user\", \"content\": \"is it too late to join the course ? \" }], # keyword is \"messages\"\n",
    "    model=\"llama-3.3-70b-versatile\",\n",
    "    stream=False,\n",
    ")\n",
    "\n",
    "print(response.choices[0].message.content)\n"
   ]
  },
  {
   "cell_type": "markdown",
   "id": "8cc840d3-049d-4326-90d2-2344c471a302",
   "metadata": {},
   "source": [
    "## 3 - Gemini AI API\n",
    "- in terminal : ```pip install -q -U google-genai```\n",
    "- set environment variable, export GEMINI_API_KEY= \"...\""
   ]
  },
  {
   "cell_type": "code",
   "execution_count": 14,
   "id": "88a70b3c-3e04-44ae-ae79-ce8c55bba220",
   "metadata": {},
   "outputs": [
    {
     "name": "stdout",
     "output_type": "stream",
     "text": [
      "To give you the most accurate answer, I need a little more information. Could you tell me:\n",
      "\n",
      "*   **What course are you referring to?** (e.g., \"Introduction to Python,\" \"Advanced Calculus,\" \"History of Art 101,\" \"The online marketing course,\" \"My university course,\" \"The evening pottery class\")\n",
      "\n",
      "Once I know the specific course, I can tell you if it's too late to join and what your options might be.\n",
      "\n",
      "However, in general, here are some common scenarios and things to consider:\n",
      "\n",
      "*   **For Academic Courses (University, College, etc.):**\n",
      "    *   **Enrollment Deadlines:** Most academic courses have strict add/drop deadlines. If you're past the \"add\" deadline, it's usually too late to officially join for credit this term.\n",
      "    *   **Late Enrollment Policies:** Some institutions allow late enrollment with special permission, but you'll likely have missed a significant amount of material and may need to catch up very quickly.\n",
      "    *   **Next Semester/Term:** If it's too late for this term, you can usually plan to enroll for the next one.\n",
      "    *   **Auditing:** Some courses allow auditing, where you attend without getting credit. This might be an option if you just want the knowledge.\n",
      "\n",
      "*   **For Online Courses (MOOCs, independent platforms):**\n",
      "    *   **Self-Paced:** Many online courses are self-paced, meaning you can join anytime.\n",
      "    *   **Cohort-Based:** Others are run in cohorts with specific start and end dates. If you've missed the start of a cohort, you might have to wait for the next one.\n",
      "    *   **Open Enrollment:** Check the course platform; they usually clearly state if enrollment is open.\n",
      "\n",
      "*   **For Community/Hobby Classes (Art, Cooking, Fitness, etc.):**\n",
      "    *   **Session-Based:** Many are run in sessions (e.g., \"6-week beginner pottery\"). You might have to wait for the next session to start.\n",
      "    *   **Drop-in:** Some allow drop-ins, meaning you can join any time.\n",
      "    *   **Contact the Organizer:** This is usually the best way to find out if they can accommodate you.\n",
      "\n",
      "**Once you tell me the course, I can give you more specific advice!**\n"
     ]
    }
   ],
   "source": [
    "from google import genai\n",
    "from google.genai import types\n",
    "\n",
    "client = genai.Client()\n",
    "\n",
    "response = client.models.generate_content(\n",
    "    model=\"gemini-2.5-flash\",\n",
    "    contents=[\n",
    "        types.Content(\n",
    "            role=\"user\",\n",
    "            parts=[types.Part(text=\"Is it too late to join the course?\")])],\n",
    "    config=types.GenerateContentConfig(\n",
    "        thinking_config=types.ThinkingConfig(thinking_budget=0)), # Disables thinking to minimize the cost, otherwise remove this config \n",
    ")\n",
    "\n",
    "print(response.text)\n"
   ]
  },
  {
   "cell_type": "code",
   "execution_count": null,
   "id": "fa59a379-1134-42ff-96a6-8309fa0dfcca",
   "metadata": {},
   "outputs": [],
   "source": []
  }
 ],
 "metadata": {
  "kernelspec": {
   "display_name": "Python 3 (ipykernel)",
   "language": "python",
   "name": "python3"
  },
  "language_info": {
   "codemirror_mode": {
    "name": "ipython",
    "version": 3
   },
   "file_extension": ".py",
   "mimetype": "text/x-python",
   "name": "python",
   "nbconvert_exporter": "python",
   "pygments_lexer": "ipython3",
   "version": "3.12.1"
  }
 },
 "nbformat": 4,
 "nbformat_minor": 5
}
