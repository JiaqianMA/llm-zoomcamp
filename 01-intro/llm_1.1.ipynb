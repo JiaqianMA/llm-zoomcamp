{
 "cells": [
  {
   "cell_type": "markdown",
   "id": "886d547e-f963-423d-a3c8-bbfcef739561",
   "metadata": {
    "jp-MarkdownHeadingCollapsed": true
   },
   "source": [
    "## if using OpenAI\n",
    "- Before open juypter notebook, set environment variable, in the Terminal console, type : export OPENAI_API_KEY=\"...\", "
   ]
  },
  {
   "cell_type": "code",
   "execution_count": 5,
   "id": "88b7e925-0631-4d55-9e02-6a4758aaceeb",
   "metadata": {},
   "outputs": [],
   "source": [
    "# import openai\n",
    "# from openai import OpenAI\n",
    "# client = OpenAI(api_key='...')\n",
    "\n",
    "# # If you cannot remeber what is OPENAI_API_KEY, you can find it in this way \n",
    "# import os\n",
    "# os.environ # to show all environmental variables\n",
    "\n",
    "# response = client.chat.completions.create(\n",
    "#     model='o4-mini', #'gpt-4o' #'o4-mini' \n",
    "#     message=[{\"role\":\"user\", \"content\": \"is it too late to join the course ? \" }]\n",
    "# )\n",
    "\n",
    "# response.choices[0].message"
   ]
  },
  {
   "cell_type": "markdown",
   "id": "17279b67-b828-4aba-b688-849691ca2ec2",
   "metadata": {},
   "source": [
    "## Here I use Groq AI API\n",
    "- set environment variable, export GROQ_API_KEY = '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'"
   ]
  },
  {
   "cell_type": "code",
   "execution_count": 1,
   "id": "04b82558-9be9-41c5-a960-1235108019d9",
   "metadata": {},
   "outputs": [],
   "source": [
    "import os\n",
    "# os.environ # to show all environment variables"
   ]
  },
  {
   "cell_type": "code",
   "execution_count": 2,
   "id": "e7e17da4-02e9-40a9-a2a0-85c9189cffba",
   "metadata": {},
   "outputs": [
    {
     "name": "stdout",
     "output_type": "stream",
     "text": [
      "I'm happy to help, but I don't have any information about a specific course you're referring to. Could you please provide more context or details about the course, such as what it's about, when it started, and who's offering it?\n",
      "\n",
      "If you provide me with more information, I'll do my best to help you determine if it's too late to join the course.\n"
     ]
    }
   ],
   "source": [
    "from groq import Groq\n",
    "import os\n",
    "\n",
    "client = Groq(\n",
    "    api_key=os.environ.get(\"GROQ_API_KEY\"),\n",
    ")\n",
    "\n",
    "response = client.chat.completions.create(\n",
    "    messages=[\n",
    "        { \"role\": \"user\",\n",
    "            \"content\": \"is it too late to join the course ?\",\n",
    "        }\n",
    "    ],\n",
    "    model=\"llama-3.3-70b-versatile\",\n",
    "    stream=False,\n",
    ")\n",
    "\n",
    "print(response.choices[0].message.content)\n"
   ]
  },
  {
   "cell_type": "code",
   "execution_count": null,
   "id": "ffc7b196-6669-4ca0-a31e-8d47d9a6057d",
   "metadata": {},
   "outputs": [],
   "source": []
  }
 ],
 "metadata": {
  "kernelspec": {
   "display_name": "Python 3 (ipykernel)",
   "language": "python",
   "name": "python3"
  },
  "language_info": {
   "codemirror_mode": {
    "name": "ipython",
    "version": 3
   },
   "file_extension": ".py",
   "mimetype": "text/x-python",
   "name": "python",
   "nbconvert_exporter": "python",
   "pygments_lexer": "ipython3",
   "version": "3.12.1"
  }
 },
 "nbformat": 4,
 "nbformat_minor": 5
}
