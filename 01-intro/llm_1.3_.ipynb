{
 "cells": [
  {
   "cell_type": "markdown",
   "id": "a6ec00fd-ae04-4c9f-bd07-be777de129bc",
   "metadata": {},
   "source": [
    "## 1 - Gemini AI API\n",
    "- in terminal : ```pip install -q -U google-genai```\n",
    "- set environment variable, export GEMINI_API_KEY= \"...\""
   ]
  },
  {
   "cell_type": "code",
   "execution_count": null,
   "id": "9e68f686-67e3-4cd2-9c91-602d5a3f6342",
   "metadata": {},
   "outputs": [],
   "source": [
    "from google import genai\n",
    "from google.genai import types\n",
    "\n",
    "client = genai.Client()\n",
    "\n",
    "response = client.models.generate_content(\n",
    "    model=\"gemini-2.5-flash\",\n",
    "    contents=[\n",
    "        types.Content(\n",
    "            role=\"user\",\n",
    "            parts=[types.Part(text=\"Is it too late to join the course?\")])],\n",
    "    config=types.GenerateContentConfig(\n",
    "        thinking_config=types.ThinkingConfig(thinking_budget=0)), # Disables thinking to minimize the cost, otherwise remove this config \n",
    ")\n",
    "\n",
    "print(response.text)"
   ]
  },
  {
   "cell_type": "markdown",
   "id": "f31c71d7-40ac-4392-bab3-b40f2ae8af64",
   "metadata": {},
   "source": [
    "## 2 - Groq AI API\n",
    "- set environment variable, export GROQ_API_KEY=\"...\""
   ]
  },
  {
   "cell_type": "code",
   "execution_count": null,
   "id": "7c4bcf16-995f-4b89-89c9-fefd3c3b0340",
   "metadata": {},
   "outputs": [],
   "source": [
    "import os\n",
    "# os.environ # to show all environment variables"
   ]
  },
  {
   "cell_type": "code",
   "execution_count": null,
   "id": "ef0310f5-6d27-4bc2-8124-5b642ebc1ed9",
   "metadata": {},
   "outputs": [],
   "source": [
    "from groq import Groq\n",
    "import os\n",
    "\n",
    "client = Groq(\n",
    "    api_key=os.environ.get(\"GROQ_API_KEY\"),\n",
    ")\n",
    "\n",
    "response = client.chat.completions.create(\n",
    "    messages=[{\"role\":\"user\", \"content\": \"is it too late to join the course ? \" }], # keyword is \"messages\"\n",
    "    model=\"llama-3.3-70b-versatile\",\n",
    "    stream=False,\n",
    ")\n",
    "\n",
    "print(response.choices[0].message.content)"
   ]
  }
 ],
 "metadata": {
  "kernelspec": {
   "display_name": "Python 3 (ipykernel)",
   "language": "python",
   "name": "python3"
  },
  "language_info": {
   "codemirror_mode": {
    "name": "ipython",
    "version": 3
   },
   "file_extension": ".py",
   "mimetype": "text/x-python",
   "name": "python",
   "nbconvert_exporter": "python",
   "pygments_lexer": "ipython3",
   "version": "3.12.1"
  }
 },
 "nbformat": 4,
 "nbformat_minor": 5
}
