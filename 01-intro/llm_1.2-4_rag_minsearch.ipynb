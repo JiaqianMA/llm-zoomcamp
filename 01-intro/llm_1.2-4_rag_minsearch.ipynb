{
 "cells": [
  {
   "cell_type": "markdown",
   "id": "ef4247ca-558e-4623-a486-60c10d149654",
   "metadata": {},
   "source": [
    "# 1 - Prepare the knowledge base\n",
    "This step is to find the relevant content to the question and prepare the knowledge base(context) for GenAI for reference. To index documents with a search engine. "
   ]
  },
  {
   "cell_type": "code",
   "execution_count": 1,
   "id": "1d039654-a8c1-4afe-a48b-01022e8a4a58",
   "metadata": {},
   "outputs": [],
   "source": [
    "import minsearch"
   ]
  },
  {
   "cell_type": "markdown",
   "id": "bf01bfe2-ee64-4661-bf24-d20ed235cd66",
   "metadata": {},
   "source": [
    "- TO understand how to read doc via a search engine built before\n",
    "https://github.com/alexeygrigorev/minsearch"
   ]
  },
  {
   "cell_type": "code",
   "execution_count": 2,
   "id": "5d7b326b-e37c-49af-adad-5f20e28245cc",
   "metadata": {},
   "outputs": [],
   "source": [
    "import json"
   ]
  },
  {
   "cell_type": "code",
   "execution_count": 3,
   "id": "e597e374-7d7d-4e07-b016-67a131c98776",
   "metadata": {},
   "outputs": [],
   "source": [
    "with open('documents.json','rt') as f_in: # read json file in reading text mode as file input\n",
    "    docs_raw = json.load(f_in)"
   ]
  },
  {
   "cell_type": "code",
   "execution_count": 178,
   "id": "aef28e86-861e-4da4-a56f-49a7f73fd124",
   "metadata": {},
   "outputs": [],
   "source": [
    "# docs_raw"
   ]
  },
  {
   "cell_type": "code",
   "execution_count": 5,
   "id": "79a27892-42b6-4c1d-8b50-3186b92f7d36",
   "metadata": {},
   "outputs": [
    {
     "data": {
      "text/plain": [
       "3"
      ]
     },
     "execution_count": 5,
     "metadata": {},
     "output_type": "execute_result"
    }
   ],
   "source": [
    "len(docs_raw) # means it has 3 different courses "
   ]
  },
  {
   "cell_type": "code",
   "execution_count": 6,
   "id": "8f67823b-c217-49da-9efe-5669fadb4462",
   "metadata": {},
   "outputs": [],
   "source": [
    "documents = []\n",
    "\n",
    "for course_dict in docs_raw: \n",
    "    for doc in course_dict['documents']:\n",
    "        doc['course'] = course_dict['course']\n",
    "        documents.append(doc) \n",
    "\n",
    "#### 3 steps for this loop:\n",
    "# 1. Store the flattened course_dict['documents'] in each doc as a dictionary,\n",
    "# 2. Add a new key'course' in each doc. \n",
    "# 3. Append doc to documents dict. \n"
   ]
  },
  {
   "cell_type": "code",
   "execution_count": 7,
   "id": "93a32b35-8a64-44fa-bdfe-2b809188d9a8",
   "metadata": {},
   "outputs": [
    {
     "data": {
      "text/plain": [
       "[{'text': \"The purpose of this document is to capture frequently asked technical questions\\nThe exact day and hour of the course will be 15th Jan 2024 at 17h00. The course will start with the first  “Office Hours'' live.1\\nSubscribe to course public Google Calendar (it works from Desktop only).\\nRegister before the course starts using this link.\\nJoin the course Telegram channel with announcements.\\nDon’t forget to register in DataTalks.Club's Slack and join the channel.\",\n",
       "  'section': 'General course-related questions',\n",
       "  'question': 'Course - When will the course start?',\n",
       "  'course': 'data-engineering-zoomcamp'},\n",
       " {'text': 'GitHub - DataTalksClub data-engineering-zoomcamp#prerequisites',\n",
       "  'section': 'General course-related questions',\n",
       "  'question': 'Course - What are the prerequisites for this course?',\n",
       "  'course': 'data-engineering-zoomcamp'}]"
      ]
     },
     "execution_count": 7,
     "metadata": {},
     "output_type": "execute_result"
    }
   ],
   "source": [
    "documents[0:2]"
   ]
  },
  {
   "cell_type": "code",
   "execution_count": 8,
   "id": "2a610873-7fa8-494b-bec1-38dc9af9291b",
   "metadata": {},
   "outputs": [],
   "source": [
    "index = minsearch.Index(\n",
    "    text_fields=[\"question\",\"text\",\"section\"],\n",
    "    keyword_fields=[\"course\"]\n",
    ")\n",
    "# filter is \"course\" here "
   ]
  },
  {
   "cell_type": "code",
   "execution_count": 44,
   "id": "dcfd5f43-a3a2-4456-a5ee-86ff109990e2",
   "metadata": {},
   "outputs": [],
   "source": [
    "q = 'the course has already started, can I still be able to enroll now ? '"
   ]
  },
  {
   "cell_type": "code",
   "execution_count": 45,
   "id": "cf62cee0-8785-4fda-b0d4-acfcdeb6ff06",
   "metadata": {},
   "outputs": [
    {
     "data": {
      "text/plain": [
       "<minsearch.minsearch.Index at 0x7a486cdf7c80>"
      ]
     },
     "execution_count": 45,
     "metadata": {},
     "output_type": "execute_result"
    }
   ],
   "source": [
    "index.fit(documents)\n",
    "# fit() function is from scikit-learn, here is to parse the schema "
   ]
  },
  {
   "cell_type": "code",
   "execution_count": 46,
   "id": "c0cbfe4f-d9d0-44b0-bb32-82af745b1736",
   "metadata": {},
   "outputs": [],
   "source": [
    "#  boost : if some content is more important in the text_fields, apply different weight on it.\n",
    "#  normally give important one 1.0 ~ 3.0 \n",
    "boost = {'question': 3.0, 'section': 0.5}\n",
    "\n",
    "results = index.search(\n",
    "    query = q,\n",
    "    filter_dict = {'course': 'data-engineering-zoomcamp'}, # optional\n",
    "    boost_dict = boost, \n",
    "    num_results = 5\n",
    ")"
   ]
  },
  {
   "cell_type": "code",
   "execution_count": 47,
   "id": "4eb13a36-4e69-4b60-a0e5-7980075240e8",
   "metadata": {},
   "outputs": [
    {
     "data": {
      "text/plain": [
       "[{'text': \"Yes, even if you don't register, you're still eligible to submit the homeworks.\\nBe aware, however, that there will be deadlines for turning in the final projects. So don't leave everything for the last minute.\",\n",
       "  'section': 'General course-related questions',\n",
       "  'question': 'Course - Can I still join the course after the start date?',\n",
       "  'course': 'data-engineering-zoomcamp'},\n",
       " {'text': 'Yes, we will keep all the materials after the course finishes, so you can follow the course at your own pace after it finishes.\\nYou can also continue looking at the homeworks and continue preparing for the next cohort. I guess you can also start working on your final capstone project.',\n",
       "  'section': 'General course-related questions',\n",
       "  'question': 'Course - Can I follow the course after it finishes?',\n",
       "  'course': 'data-engineering-zoomcamp'},\n",
       " {'text': \"The purpose of this document is to capture frequently asked technical questions\\nThe exact day and hour of the course will be 15th Jan 2024 at 17h00. The course will start with the first  “Office Hours'' live.1\\nSubscribe to course public Google Calendar (it works from Desktop only).\\nRegister before the course starts using this link.\\nJoin the course Telegram channel with announcements.\\nDon’t forget to register in DataTalks.Club's Slack and join the channel.\",\n",
       "  'section': 'General course-related questions',\n",
       "  'question': 'Course - When will the course start?',\n",
       "  'course': 'data-engineering-zoomcamp'},\n",
       " {'text': 'Star the repo! Share it with friends if you find it useful ❣️\\nCreate a PR if you see you can improve the text or the structure of the repository.',\n",
       "  'section': 'General course-related questions',\n",
       "  'question': 'How can we contribute to the course?',\n",
       "  'course': 'data-engineering-zoomcamp'},\n",
       " {'text': 'You can start by installing and setting up all the dependencies and requirements:\\nGoogle cloud account\\nGoogle Cloud SDK\\nPython 3 (installed with Anaconda)\\nTerraform\\nGit\\nLook over the prerequisites and syllabus to see if you are comfortable with these subjects.',\n",
       "  'section': 'General course-related questions',\n",
       "  'question': 'Course - What can I do before the course starts?',\n",
       "  'course': 'data-engineering-zoomcamp'}]"
      ]
     },
     "execution_count": 47,
     "metadata": {},
     "output_type": "execute_result"
    }
   ],
   "source": [
    "results"
   ]
  },
  {
   "cell_type": "markdown",
   "id": "45ce85b4-d505-401e-b413-b09e59a7721c",
   "metadata": {},
   "source": [
    "# 2 - Connect to GenAI API"
   ]
  },
  {
   "cell_type": "markdown",
   "id": "6d71d99d-8aba-4834-9d6e-305dc0c59201",
   "metadata": {},
   "source": [
    "## prepare the prompt"
   ]
  },
  {
   "cell_type": "code",
   "execution_count": 48,
   "id": "d2489ef7-0033-4259-8837-163437cadf9d",
   "metadata": {},
   "outputs": [],
   "source": [
    "prompt_template = \"\"\"\n",
    "You're a course teaching assistant. Answer the QUESTION based on the CONTEXT from the FAQ database. \n",
    "Use only the facts from the CONTEXT when answering the QUESTION.\n",
    "If the CONTEXT doesn't contain the answer, output NONE\n",
    "\n",
    "QUESTION:{question}\n",
    "\n",
    "CONTEXT:\n",
    "{context}\n",
    "\"\"\".strip()\n",
    "# .strip() to remove leading and trailing whitespace characters from a string — including spaces, tabs (\\t), and newline characters (\\n)."
   ]
  },
  {
   "cell_type": "code",
   "execution_count": 49,
   "id": "861ddc47-5f4b-4d47-80ab-df3d82f15963",
   "metadata": {},
   "outputs": [],
   "source": [
    "context = \"\"\n",
    "\n",
    "for doc in results: \n",
    "    context += f\"section: {doc['section']}\\nquestion:{doc['question']}\\nanswer:{doc['text']}\\n\\n\""
   ]
  },
  {
   "cell_type": "code",
   "execution_count": 50,
   "id": "9dd4b930-64dc-4eda-b5e8-e30efb049985",
   "metadata": {},
   "outputs": [
    {
     "name": "stdout",
     "output_type": "stream",
     "text": [
      "section: General course-related questions\n",
      "question:Course - Can I still join the course after the start date?\n",
      "answer:Yes, even if you don't register, you're still eligible to submit the homeworks.\n",
      "Be aware, however, that there will be deadlines for turning in the final projects. So don't leave everything for the last minute.\n",
      "\n",
      "section: General course-related questions\n",
      "question:Course - Can I follow the course after it finishes?\n",
      "answer:Yes, we will keep all the materials after the course finishes, so you can follow the course at your own pace after it finishes.\n",
      "You can also continue looking at the homeworks and continue preparing for the next cohort. I guess you can also start working on your final capstone project.\n",
      "\n",
      "section: General course-related questions\n",
      "question:Course - When will the course start?\n",
      "answer:The purpose of this document is to capture frequently asked technical questions\n",
      "The exact day and hour of the course will be 15th Jan 2024 at 17h00. The course will start with the first  “Office Hours'' live.1\n",
      "Subscribe to course public Google Calendar (it works from Desktop only).\n",
      "Register before the course starts using this link.\n",
      "Join the course Telegram channel with announcements.\n",
      "Don’t forget to register in DataTalks.Club's Slack and join the channel.\n",
      "\n",
      "section: General course-related questions\n",
      "question:How can we contribute to the course?\n",
      "answer:Star the repo! Share it with friends if you find it useful ❣️\n",
      "Create a PR if you see you can improve the text or the structure of the repository.\n",
      "\n",
      "section: General course-related questions\n",
      "question:Course - What can I do before the course starts?\n",
      "answer:You can start by installing and setting up all the dependencies and requirements:\n",
      "Google cloud account\n",
      "Google Cloud SDK\n",
      "Python 3 (installed with Anaconda)\n",
      "Terraform\n",
      "Git\n",
      "Look over the prerequisites and syllabus to see if you are comfortable with these subjects.\n",
      "\n",
      "\n"
     ]
    }
   ],
   "source": [
    "print(context)"
   ]
  },
  {
   "cell_type": "code",
   "execution_count": 51,
   "id": "f63ba153-e9e0-4743-966b-92466a8c13ad",
   "metadata": {},
   "outputs": [],
   "source": [
    "prompt = prompt_template.format(question=q, context=context).strip()"
   ]
  },
  {
   "cell_type": "code",
   "execution_count": 52,
   "id": "19242b0a-a22f-46a1-98c7-f878133217d1",
   "metadata": {},
   "outputs": [
    {
     "name": "stdout",
     "output_type": "stream",
     "text": [
      "You're a course teaching assistant. Answer the QUESTION based on the CONTEXT from the FAQ database. \n",
      "Use only the facts from the CONTEXT when answering the QUESTION.\n",
      "If the CONTEXT doesn't contain the answer, output NONE\n",
      "\n",
      "QUESTION:the course has already started, can I still be able to enroll now ? \n",
      "\n",
      "CONTEXT:\n",
      "section: General course-related questions\n",
      "question:Course - Can I still join the course after the start date?\n",
      "answer:Yes, even if you don't register, you're still eligible to submit the homeworks.\n",
      "Be aware, however, that there will be deadlines for turning in the final projects. So don't leave everything for the last minute.\n",
      "\n",
      "section: General course-related questions\n",
      "question:Course - Can I follow the course after it finishes?\n",
      "answer:Yes, we will keep all the materials after the course finishes, so you can follow the course at your own pace after it finishes.\n",
      "You can also continue looking at the homeworks and continue preparing for the next cohort. I guess you can also start working on your final capstone project.\n",
      "\n",
      "section: General course-related questions\n",
      "question:Course - When will the course start?\n",
      "answer:The purpose of this document is to capture frequently asked technical questions\n",
      "The exact day and hour of the course will be 15th Jan 2024 at 17h00. The course will start with the first  “Office Hours'' live.1\n",
      "Subscribe to course public Google Calendar (it works from Desktop only).\n",
      "Register before the course starts using this link.\n",
      "Join the course Telegram channel with announcements.\n",
      "Don’t forget to register in DataTalks.Club's Slack and join the channel.\n",
      "\n",
      "section: General course-related questions\n",
      "question:How can we contribute to the course?\n",
      "answer:Star the repo! Share it with friends if you find it useful ❣️\n",
      "Create a PR if you see you can improve the text or the structure of the repository.\n",
      "\n",
      "section: General course-related questions\n",
      "question:Course - What can I do before the course starts?\n",
      "answer:You can start by installing and setting up all the dependencies and requirements:\n",
      "Google cloud account\n",
      "Google Cloud SDK\n",
      "Python 3 (installed with Anaconda)\n",
      "Terraform\n",
      "Git\n",
      "Look over the prerequisites and syllabus to see if you are comfortable with these subjects.\n"
     ]
    }
   ],
   "source": [
    "print(prompt)"
   ]
  },
  {
   "cell_type": "markdown",
   "id": "016cce34-6472-4298-a7f6-38eb714153f5",
   "metadata": {},
   "source": [
    "## 1) Gemini AI API\n",
    "- in terminal : ```pip install -q -U google-genai```\n",
    "- set environment variable, export GEMINI_API_KEY= \"...\""
   ]
  },
  {
   "cell_type": "code",
   "execution_count": 53,
   "id": "b28ad44a-a41f-4cb0-abd1-7adefa901b72",
   "metadata": {},
   "outputs": [
    {
     "name": "stdout",
     "output_type": "stream",
     "text": [
      "Yes, even if you don't register, you're still eligible to submit the homeworks. Be aware, however, that there will be deadlines for turning in the final projects. So don't leave everything for the last minute.\n"
     ]
    }
   ],
   "source": [
    "from google import genai\n",
    "from google.genai import types\n",
    "\n",
    "client = genai.Client()\n",
    "\n",
    "response = client.models.generate_content(\n",
    "    model=\"gemini-2.5-flash\",\n",
    "    contents=[\n",
    "        types.Content(\n",
    "            role=\"user\",\n",
    "            parts=[types.Part(text= prompt)])],\n",
    "    config=types.GenerateContentConfig(\n",
    "        thinking_config=types.ThinkingConfig(thinking_budget=0)), # Disables thinking to minimize the cost, otherwise remove this config \n",
    ")\n",
    "\n",
    "print(response.text)"
   ]
  },
  {
   "cell_type": "markdown",
   "id": "b867a979-81a0-4cff-9af5-39b44defc4fb",
   "metadata": {},
   "source": [
    "## 2) Groq AI API\n",
    "- set environment variable, export GROQ_API_KEY=\"...\""
   ]
  },
  {
   "cell_type": "code",
   "execution_count": 54,
   "id": "9c88ce00-63af-40fc-bd05-dc33de7c1249",
   "metadata": {},
   "outputs": [
    {
     "name": "stdout",
     "output_type": "stream",
     "text": [
      "Yes, even if you don't register, you're still eligible to submit the homeworks.\n"
     ]
    }
   ],
   "source": [
    "from groq import Groq\n",
    "import os\n",
    "\n",
    "client = Groq(\n",
    "    api_key=os.environ.get(\"GROQ_API_KEY\"),\n",
    ")\n",
    "\n",
    "response = client.chat.completions.create(\n",
    "    messages=[{\"role\":\"user\", \"content\": prompt}], # keyword is \"messages\"\n",
    "    model=\"llama-3.3-70b-versatile\",\n",
    "    stream=False,\n",
    ")\n",
    "\n",
    "print(response.choices[0].message.content)"
   ]
  },
  {
   "cell_type": "markdown",
   "id": "9fd93c84-cb5c-4988-8b99-2fddab7e5927",
   "metadata": {},
   "source": [
    "# 3 - Wrap up and modularze the code"
   ]
  },
  {
   "cell_type": "code",
   "execution_count": 111,
   "id": "ba24ca3d-3a7d-4a3d-ad07-ad812df3e6c9",
   "metadata": {},
   "outputs": [],
   "source": [
    "def search(query):\n",
    "    boost = {'question': 3.0, 'section': 0.5}\n",
    "\n",
    "    results = index.search(\n",
    "        query = query,\n",
    "        filter_dict = {'course': 'data-engineering-zoomcamp'}, # optional\n",
    "        boost_dict = boost, \n",
    "        num_results = 10\n",
    "    )\n",
    "    return results"
   ]
  },
  {
   "cell_type": "code",
   "execution_count": 112,
   "id": "35585dcb-604d-4f09-b827-cf5173d6ceaf",
   "metadata": {},
   "outputs": [],
   "source": [
    "def build_prompt(query, search_results):\n",
    "    prompt_template = \"\"\"\n",
    "    You're a course teaching assistant. Answer the QUESTION based on the CONTEXT from the FAQ database. \n",
    "    Use only the facts from the CONTEXT when answering the QUESTION.\n",
    "    If the CONTEXT doesn't contain the answer, output NONE\n",
    "    \n",
    "    QUESTION:{question}\n",
    "    \n",
    "    CONTEXT:\n",
    "    {context}\n",
    "    \"\"\".strip()\n",
    "    \n",
    "    context = \"\"\n",
    "    \n",
    "    for doc in search_results: \n",
    "        context += f\"section: {doc['section']}\\nquestion:{doc['question']}\\nanswer:{doc['text']}\\n\\n\"\n",
    "\n",
    "    prompt = prompt_template.format(question=query, context=context).strip()\n",
    "\n",
    "    return prompt"
   ]
  },
  {
   "cell_type": "code",
   "execution_count": 171,
   "id": "ad732c28-1948-4643-b863-3da60d180155",
   "metadata": {},
   "outputs": [],
   "source": [
    "def llm_gemini(prompt):\n",
    "    client_gemini = genai.Client()\n",
    "    response = client_gemini.models.generate_content(\n",
    "        model=\"gemini-2.5-flash\",\n",
    "        contents=[\n",
    "            types.Content(\n",
    "                role=\"user\",\n",
    "                parts=[types.Part(text= prompt)])],\n",
    "        config=types.GenerateContentConfig(\n",
    "            thinking_config=types.ThinkingConfig(thinking_budget=0)), # Disables thinking to minimize the cost, otherwise remove this config \n",
    "        )\n",
    "\n",
    "    return response.text"
   ]
  },
  {
   "cell_type": "code",
   "execution_count": 172,
   "id": "6b1cce45-cd9a-4454-85c2-e2ce87ce91bb",
   "metadata": {},
   "outputs": [],
   "source": [
    "def llm_groq(prompt):\n",
    "    client_groq = Groq(\n",
    "        api_key=os.environ.get(\"GROQ_API_KEY\"),\n",
    "    )\n",
    "    \n",
    "    response = client_groq.chat.completions.create(\n",
    "        messages=[{\"role\":\"user\", \"content\": prompt}], # keyword is \"messages\"\n",
    "        model=\"llama-3.3-70b-versatile\",\n",
    "        stream=False,\n",
    "    )\n",
    "    \n",
    "    return response.choices[0].message.content"
   ]
  },
  {
   "cell_type": "code",
   "execution_count": 173,
   "id": "aa62816d-5f80-47ab-b275-471075885561",
   "metadata": {},
   "outputs": [],
   "source": [
    "query = \"how to run python with kafka?\"\n",
    "# query = \"Can I still enroll?\"\n",
    "\n",
    "def rag(query):\n",
    "    search_results = search(query)\n",
    "    prompt = build_prompt(query, search_results)\n",
    "    answer_gemini = llm_gemini(prompt)\n",
    "    answer_groq = llm_groq(prompt)\n",
    "    return (\n",
    "        \"========== GEMINI ANSWER ==========\\n\"\n",
    "        f\"{answer_gemini}\\n\\n\"\n",
    "        \"========== GROQ ANSWER ==========\\n\"\n",
    "        f\"{answer_groq}\"\n",
    "    )"
   ]
  },
  {
   "cell_type": "code",
   "execution_count": 174,
   "id": "7874c126-db5f-441e-84c3-623636004acd",
   "metadata": {},
   "outputs": [
    {
     "data": {
      "text/plain": [
       "'========== GEMINI ANSWER ==========\\nTo run Python with Kafka, you need to install the necessary dependencies:\\n\\n*   `confluent-kafka`: Install with `pip install confluent-kafka` or `conda install conda-forge::python-confluent-kafka`.\\n*   `fastavro`: Install with `pip install fastavro`.\\n\\nIf you encounter a \"Module kafka not found\" error, create a virtual environment, activate it, and install dependencies from `requirements.txt`:\\n```bash\\npython -m venv env\\nsource env/bin/activate  # Use env/Scripts/activate for Windows\\npip install -r ../requirements.txt\\n```\\nIf you face an error \"ModuleNotFoundError: No module named \\'kafka.vendor.six.moves\\'\", it is suggested to use `pip install kafka-python-ng` instead of `kafka-python`.\\n\\n========== GROQ ANSWER ==========\\nTo run Python with Kafka, you need to install the necessary dependencies. \\n\\nYou can install `confluent-kafka` using `pip install confluent-kafka` or `conda install conda-forge::python-confluent-kafka`. \\n\\nAdditionally, you can install `fastavro` using `pip install fastavro`. \\n\\nIt\\'s also recommended to create a virtual environment and install the required packages using `pip install -r requirements.txt` to avoid any dependency conflicts. \\n\\nTo run the Python files, make sure to activate the virtual environment using `source env/bin/activate` and ensure that the Docker images are up and running. \\n\\nNote that if you encounter the \"ModuleNotFoundError: No module named \\'kafka.vendor.six.moves\\'\" error, you can use `pip install kafka-python-ng` instead. \\n\\nFor more specific instructions on running Python Kafka scripts, refer to the section on \"Module 6: streaming with kafka\" in the FAQ database.'"
      ]
     },
     "execution_count": 174,
     "metadata": {},
     "output_type": "execute_result"
    }
   ],
   "source": [
    "rag(query)"
   ]
  },
  {
   "cell_type": "code",
   "execution_count": 176,
   "id": "fe220124-ab8f-4ce2-939f-e907ce91cffb",
   "metadata": {},
   "outputs": [
    {
     "name": "stdout",
     "output_type": "stream",
     "text": [
      "========== GEMINI ANSWER ==========\n",
      "To run Python with Kafka, you need to install the necessary dependencies:\n",
      "\n",
      "*   For `confluent-kafka`: `pip install confluent-kafka` or `conda install conda-forge::python-confluent-kafka`\n",
      "*   For `fastavro`: `pip install fastavro`\n",
      "\n",
      "If you encounter a \"Module 'kafka' not found\" error, create and activate a virtual environment, then install the packages from `requirements.txt`.\n",
      "\n",
      "Steps for virtual environment:\n",
      "1.  Create: `python -m venv env`\n",
      "2.  Activate (MacOS/Linux): `source env/bin/activate`\n",
      "3.  Activate (Windows): `env/Scripts/activate`\n",
      "4.  Install dependencies: `pip install -r ../requirements.txt`\n",
      "5.  Deactivate: `deactivate`\n",
      "\n",
      "Note that the Faust library is no longer maintained. Alternatively, you can follow Python videos 6.13 & 6.14 or use the RedPanda Python version.\n",
      "\n",
      "========== GROQ ANSWER ==========\n",
      "To run Python with Kafka, you need to install the required dependencies. You can install `confluent-kafka` using `pip install confluent-kafka` or `conda install conda-forge::python-confluent-kafka`. Additionally, you can install `fastavro` using `pip install fastavro`. \n",
      "\n",
      "It is also recommended to create a virtual environment and run the `requirements.txt` and Python files in that environment. To create a virtual environment, you can run `python -m venv env`, then activate it using `source env/bin/activate` and install the packages using `pip install -r ../requirements.txt`. \n",
      "\n",
      "Note that you should create the virtual environment only to run the Python file, and Docker images should be up and running before that. If you encounter any issues, such as \"ModuleNotFoundError: No module named 'kafka.vendor.six.moves'\", you can try using `pip install kafka-python-ng` instead. \n",
      "\n",
      "However, the exact command to run Python with Kafka is not specified in the provided context.\n"
     ]
    }
   ],
   "source": [
    "print(rag(query))"
   ]
  },
  {
   "cell_type": "code",
   "execution_count": 177,
   "id": "1140a3e0-261b-41d1-81ff-b4031ce26cbb",
   "metadata": {},
   "outputs": [
    {
     "name": "stdout",
     "output_type": "stream",
     "text": [
      "========== GEMINI ANSWER ==========\n",
      "Yes, even if you don't register, you're still eligible to submit the homeworks. Be aware, however, that there will be deadlines for turning in the final projects. So don't leave everything for the last minute.\n",
      "\n",
      "========== GROQ ANSWER ==========\n",
      "Yes, even if you don't register, you're still eligible to submit the homeworks. Be aware, however, that there will be deadlines for turning in the final projects. So don't leave everything for the last minute.\n"
     ]
    }
   ],
   "source": [
    "print(rag(\"the class already started, can I still enroll? \"))"
   ]
  },
  {
   "cell_type": "code",
   "execution_count": 144,
   "id": "1b6861ef-c3f0-490e-94ee-bc52e03443fb",
   "metadata": {},
   "outputs": [
    {
     "name": "stdout",
     "output_type": "stream",
     "text": [
      "To run Python with Kafka, you need to:\n",
      "\n",
      "1. Install the necessary dependencies, which are:\n",
      "   - `confluent-kafka`: Install using `pip install confluent-kafka` or `conda install conda-forge::python-confluent-kafka`\n",
      "   - `fastavro`: Install using `pip install fastavro`\n",
      "\n",
      "2. Create a virtual environment and install the requirements from `requirements.txt` to avoid dependency conflicts.\n",
      "\n",
      "3. Activate the virtual environment before running your Python scripts. \n",
      "\n",
      "Note: Docker images should be up and running before creating the virtual environment. \n",
      "\n",
      "For more specific instructions on running Python files, ensure that you are in the correct directory and that the Kafka environment is properly set up. If you encounter issues like \"ModuleNotFoundError: No module named 'kafka.vendor.six.moves'\", consider using `kafka-python-ng` instead.\n"
     ]
    }
   ],
   "source": [
    "answer_groq = llm_groq(prompt)"
   ]
  },
  {
   "cell_type": "code",
   "execution_count": null,
   "id": "0806caa2-e115-4274-8dae-042de9b6ee8d",
   "metadata": {},
   "outputs": [],
   "source": []
  }
 ],
 "metadata": {
  "kernelspec": {
   "display_name": "Python 3 (ipykernel)",
   "language": "python",
   "name": "python3"
  },
  "language_info": {
   "codemirror_mode": {
    "name": "ipython",
    "version": 3
   },
   "file_extension": ".py",
   "mimetype": "text/x-python",
   "name": "python",
   "nbconvert_exporter": "python",
   "pygments_lexer": "ipython3",
   "version": "3.12.1"
  }
 },
 "nbformat": 4,
 "nbformat_minor": 5
}
