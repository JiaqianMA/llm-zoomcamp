{
 "cells": [
  {
   "cell_type": "code",
   "execution_count": 2,
   "id": "22446c0f-e8d5-492b-9291-899c42d30a82",
   "metadata": {},
   "outputs": [],
   "source": [
    "import minsearch"
   ]
  },
  {
   "cell_type": "code",
   "execution_count": null,
   "id": "221370c3-e8cd-4b68-aafe-7cdb40610555",
   "metadata": {},
   "outputs": [],
   "source": [
    "## understand how to read doc ??"
   ]
  },
  {
   "cell_type": "code",
   "execution_count": null,
   "id": "5d7b326b-e37c-49af-adad-5f20e28245cc",
   "metadata": {},
   "outputs": [],
   "source": []
  }
 ],
 "metadata": {
  "kernelspec": {
   "display_name": "Python 3 (ipykernel)",
   "language": "python",
   "name": "python3"
  },
  "language_info": {
   "codemirror_mode": {
    "name": "ipython",
    "version": 3
   },
   "file_extension": ".py",
   "mimetype": "text/x-python",
   "name": "python",
   "nbconvert_exporter": "python",
   "pygments_lexer": "ipython3",
   "version": "3.12.1"
  }
 },
 "nbformat": 4,
 "nbformat_minor": 5
}
